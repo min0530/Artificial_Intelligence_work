{
  "cells": [
    {
      "cell_type": "code",
      "execution_count": 1,
      "metadata": {
        "_cell_guid": "b1076dfc-b9ad-4769-8c92-a6c4dae69d19",
        "_uuid": "8f2839f25d086af736a60e9eeb907d3b93b6e0e5",
        "id": "uRmv5jVBY94q",
        "trusted": true
      },
      "outputs": [],
      "source": [
        "import numpy as np\n",
        "import cv2\n",
        "import matplotlib.pyplot as plt\n",
        "from keras.layers import Dense,Flatten,Input\n",
        "from keras.models import Sequential\n",
        "from keras.utils import to_categorical\n",
        "from tensorflow.keras.layers import Dense, Dropout, Activation, Flatten\n",
        "from tensorflow.keras.layers import BatchNormalization\n",
        "from keras.utils.data_utils import get_file\n",
        "from keras.initializers import he_normal\n",
        "from tensorflow.keras.datasets import cifar10\n",
        "from tensorflow.keras.applications import   VGG19 "
      ]
    },
    {
      "cell_type": "code",
      "execution_count": 2,
      "metadata": {
        "_cell_guid": "79c7e3d0-c299-4dcb-8224-4455121ee9b0",
        "_uuid": "d629ff2d2480ee46fbb7e2d37f6b5fab8052498a",
        "id": "pFcLZnS4Y94r",
        "trusted": true
      },
      "outputs": [],
      "source": [
        "(x_train,y_train),(x_test,y_test) = cifar10.load_data()"
      ]
    },
    {
      "cell_type": "code",
      "execution_count": 3,
      "metadata": {
        "id": "UEvEj8z7Y94s",
        "trusted": true
      },
      "outputs": [],
      "source": [
        "x_train = x_train.astype('float32')\n",
        "x_test = x_test.astype('float32')\n",
        "\n",
        "#onehot \n",
        "y_train = to_categorical(y_train,num_classes=10)\n",
        "y_test = to_categorical(y_test,num_classes=10)\n",
        "\n",
        "# data preprocessing 使用rbg均質\n",
        "x_train[:, :, :, 0] = (x_train[:, :, :, 0]-123.680)\n",
        "x_train[:, :, :, 1] = (x_train[:, :, :, 1]-116.779)\n",
        "x_train[:, :, :, 2] = (x_train[:, :, :, 2]-103.939)\n",
        "x_test[:, :, :, 0] = (x_test[:, :, :, 0]-123.680)\n",
        "x_test[:, :, :, 1] = (x_test[:, :, :, 1]-116.779)\n",
        "x_test[:, :, :, 2] = (x_test[:, :, :, 2]-103.939)\n"
      ]
    },
    {
      "cell_type": "code",
      "execution_count": 4,
      "metadata": {
        "id": "HQr2d_cpY94t",
        "trusted": true
      },
      "outputs": [],
      "source": [
        "#放大圖片\n",
        "def resize_img(img):\n",
        "    numberOfImage = img.shape[0]\n",
        "    new_array = np.zeros((numberOfImage, 96,96,3))\n",
        "    for i in range(numberOfImage):\n",
        "        new_array[i] = cv2.resize(img[i,:,:,:],(96,96))\n",
        "    return new_array\n",
        "\n",
        "x_train = resize_img(x_train)\n",
        "x_test = resize_img(x_test)\n"
      ]
    },
    {
      "cell_type": "code",
      "execution_count": 5,
      "metadata": {
        "colab": {
          "base_uri": "https://localhost:8080/",
          "height": 0
        },
        "id": "T2IXmDNlY94u",
        "outputId": "60255586-f6d9-4fd4-91e0-6310925f8c4b",
        "trusted": true
      },
      "outputs": [
        {
          "name": "stdout",
          "output_type": "stream",
          "text": [
            "Model: \"vgg19\"\n",
            "_________________________________________________________________\n",
            " Layer (type)                Output Shape              Param #   \n",
            "=================================================================\n",
            " input_1 (InputLayer)        [(None, 96, 96, 3)]       0         \n",
            "                                                                 \n",
            " block1_conv1 (Conv2D)       (None, 96, 96, 64)        1792      \n",
            "                                                                 \n",
            " block1_conv2 (Conv2D)       (None, 96, 96, 64)        36928     \n",
            "                                                                 \n",
            " block1_pool (MaxPooling2D)  (None, 48, 48, 64)        0         \n",
            "                                                                 \n",
            " block2_conv1 (Conv2D)       (None, 48, 48, 128)       73856     \n",
            "                                                                 \n",
            " block2_conv2 (Conv2D)       (None, 48, 48, 128)       147584    \n",
            "                                                                 \n",
            " block2_pool (MaxPooling2D)  (None, 24, 24, 128)       0         \n",
            "                                                                 \n",
            " block3_conv1 (Conv2D)       (None, 24, 24, 256)       295168    \n",
            "                                                                 \n",
            " block3_conv2 (Conv2D)       (None, 24, 24, 256)       590080    \n",
            "                                                                 \n",
            " block3_conv3 (Conv2D)       (None, 24, 24, 256)       590080    \n",
            "                                                                 \n",
            " block3_conv4 (Conv2D)       (None, 24, 24, 256)       590080    \n",
            "                                                                 \n",
            " block3_pool (MaxPooling2D)  (None, 12, 12, 256)       0         \n",
            "                                                                 \n",
            " block4_conv1 (Conv2D)       (None, 12, 12, 512)       1180160   \n",
            "                                                                 \n",
            " block4_conv2 (Conv2D)       (None, 12, 12, 512)       2359808   \n",
            "                                                                 \n",
            " block4_conv3 (Conv2D)       (None, 12, 12, 512)       2359808   \n",
            "                                                                 \n",
            " block4_conv4 (Conv2D)       (None, 12, 12, 512)       2359808   \n",
            "                                                                 \n",
            " block4_pool (MaxPooling2D)  (None, 6, 6, 512)         0         \n",
            "                                                                 \n",
            " block5_conv1 (Conv2D)       (None, 6, 6, 512)         2359808   \n",
            "                                                                 \n",
            " block5_conv2 (Conv2D)       (None, 6, 6, 512)         2359808   \n",
            "                                                                 \n",
            " block5_conv3 (Conv2D)       (None, 6, 6, 512)         2359808   \n",
            "                                                                 \n",
            " block5_conv4 (Conv2D)       (None, 6, 6, 512)         2359808   \n",
            "                                                                 \n",
            " block5_pool (MaxPooling2D)  (None, 3, 3, 512)         0         \n",
            "                                                                 \n",
            "=================================================================\n",
            "Total params: 20,024,384\n",
            "Trainable params: 20,024,384\n",
            "Non-trainable params: 0\n",
            "_________________________________________________________________\n"
          ]
        }
      ],
      "source": [
        "vgg = VGG19(include_top=False,input_shape=(96,96,3))\n",
        "\n",
        "vgg.summary()"
      ]
    },
    {
      "cell_type": "code",
      "execution_count": 6,
      "metadata": {
        "colab": {
          "base_uri": "https://localhost:8080/",
          "height": 0
        },
        "id": "fWexEjXcY94v",
        "outputId": "c3b9bed8-d30b-4443-d246-e78d993f3779",
        "trusted": true
      },
      "outputs": [
        {
          "name": "stdout",
          "output_type": "stream",
          "text": [
            "Model: \"sequential\"\n",
            "_________________________________________________________________\n",
            " Layer (type)                Output Shape              Param #   \n",
            "=================================================================\n",
            " block1_conv1 (Conv2D)       (None, 96, 96, 64)        1792      \n",
            "                                                                 \n",
            " block1_conv2 (Conv2D)       (None, 96, 96, 64)        36928     \n",
            "                                                                 \n",
            " block1_pool (MaxPooling2D)  (None, 48, 48, 64)        0         \n",
            "                                                                 \n",
            " block2_conv1 (Conv2D)       (None, 48, 48, 128)       73856     \n",
            "                                                                 \n",
            " block2_conv2 (Conv2D)       (None, 48, 48, 128)       147584    \n",
            "                                                                 \n",
            " block2_pool (MaxPooling2D)  (None, 24, 24, 128)       0         \n",
            "                                                                 \n",
            " block3_conv1 (Conv2D)       (None, 24, 24, 256)       295168    \n",
            "                                                                 \n",
            " block3_conv2 (Conv2D)       (None, 24, 24, 256)       590080    \n",
            "                                                                 \n",
            " block3_conv3 (Conv2D)       (None, 24, 24, 256)       590080    \n",
            "                                                                 \n",
            " block3_conv4 (Conv2D)       (None, 24, 24, 256)       590080    \n",
            "                                                                 \n",
            " block3_pool (MaxPooling2D)  (None, 12, 12, 256)       0         \n",
            "                                                                 \n",
            " block4_conv1 (Conv2D)       (None, 12, 12, 512)       1180160   \n",
            "                                                                 \n",
            " block4_conv2 (Conv2D)       (None, 12, 12, 512)       2359808   \n",
            "                                                                 \n",
            " block4_conv3 (Conv2D)       (None, 12, 12, 512)       2359808   \n",
            "                                                                 \n",
            " block4_conv4 (Conv2D)       (None, 12, 12, 512)       2359808   \n",
            "                                                                 \n",
            " block4_pool (MaxPooling2D)  (None, 6, 6, 512)         0         \n",
            "                                                                 \n",
            " block5_conv1 (Conv2D)       (None, 6, 6, 512)         2359808   \n",
            "                                                                 \n",
            " block5_conv2 (Conv2D)       (None, 6, 6, 512)         2359808   \n",
            "                                                                 \n",
            " block5_conv3 (Conv2D)       (None, 6, 6, 512)         2359808   \n",
            "                                                                 \n",
            " block5_conv4 (Conv2D)       (None, 6, 6, 512)         2359808   \n",
            "                                                                 \n",
            " block5_pool (MaxPooling2D)  (None, 3, 3, 512)         0         \n",
            "                                                                 \n",
            " flatten (Flatten)           (None, 4608)              0         \n",
            "                                                                 \n",
            " fc_cifa10 (Dense)           (None, 4096)              18878464  \n",
            "                                                                 \n",
            " batch_normalization (BatchN  (None, 4096)             16384     \n",
            " ormalization)                                                   \n",
            "                                                                 \n",
            " activation (Activation)     (None, 4096)              0         \n",
            "                                                                 \n",
            " fc2 (Dense)                 (None, 4096)              16781312  \n",
            "                                                                 \n",
            " batch_normalization_1 (Batc  (None, 4096)             16384     \n",
            " hNormalization)                                                 \n",
            "                                                                 \n",
            " activation_1 (Activation)   (None, 4096)              0         \n",
            "                                                                 \n",
            " predictions_cifa10 (Dense)  (None, 10)                40970     \n",
            "                                                                 \n",
            " batch_normalization_2 (Batc  (None, 10)               40        \n",
            " hNormalization)                                                 \n",
            "                                                                 \n",
            " activation_2 (Activation)   (None, 10)                0         \n",
            "                                                                 \n",
            "=================================================================\n",
            "Total params: 55,757,938\n",
            "Trainable params: 35,717,150\n",
            "Non-trainable params: 20,040,788\n",
            "_________________________________________________________________\n"
          ]
        }
      ],
      "source": [
        "model = Sequential()\n",
        "\n",
        "for layer in vgg.layers:\n",
        "    model.add(layer)\n",
        "    \n",
        "for layer in model.layers:\n",
        "    layer.trainable = False\n",
        "    \n",
        "# model modification for cifar-10\n",
        "model.add(Flatten(name='flatten'))\n",
        "model.add(Dense(4096,name='fc_cifa10'))\n",
        "model.add(BatchNormalization())\n",
        "model.add(Activation('relu'))\n",
        "model.add(Dense(4096,kernel_initializer=he_normal(),name='fc2'))\n",
        "model.add(BatchNormalization())\n",
        "model.add(Activation('relu'))\n",
        "model.add(Dense(10, name='predictions_cifa10'))\n",
        "model.add(BatchNormalization())\n",
        "model.add(Activation('softmax'))\n",
        "\n",
        "model.summary()"
      ]
    },
    {
      "cell_type": "code",
      "execution_count": 7,
      "metadata": {
        "colab": {
          "base_uri": "https://localhost:8080/",
          "height": 0
        },
        "id": "cZyqzsYlY94w",
        "outputId": "86174b38-1b73-4de4-e95d-adb1f918d087",
        "trusted": true
      },
      "outputs": [
        {
          "name": "stdout",
          "output_type": "stream",
          "text": [
            "Epoch 1/20\n",
            "43/43 [==============================] - 97s 2s/step - loss: 0.8665 - accuracy: 0.7837 - val_loss: 0.8296 - val_accuracy: 0.7708\n",
            "Epoch 2/20\n",
            "43/43 [==============================] - 66s 2s/step - loss: 0.6179 - accuracy: 0.8723 - val_loss: 0.7936 - val_accuracy: 0.8125\n",
            "Epoch 3/20\n",
            "43/43 [==============================] - 67s 2s/step - loss: 0.4887 - accuracy: 0.9180 - val_loss: 0.9477 - val_accuracy: 0.8019\n",
            "Epoch 4/20\n",
            "43/43 [==============================] - 67s 2s/step - loss: 0.3809 - accuracy: 0.9544 - val_loss: 1.0214 - val_accuracy: 0.7721\n",
            "Epoch 5/20\n",
            "43/43 [==============================] - 67s 2s/step - loss: 0.2994 - accuracy: 0.9732 - val_loss: 0.9663 - val_accuracy: 0.7649\n",
            "Epoch 6/20\n",
            "43/43 [==============================] - 67s 2s/step - loss: 0.2436 - accuracy: 0.9825 - val_loss: 0.7187 - val_accuracy: 0.8365\n",
            "Epoch 7/20\n",
            "43/43 [==============================] - 67s 2s/step - loss: 0.2041 - accuracy: 0.9872 - val_loss: 0.6830 - val_accuracy: 0.8407\n",
            "Epoch 8/20\n",
            "43/43 [==============================] - 67s 2s/step - loss: 0.1687 - accuracy: 0.9922 - val_loss: 0.6833 - val_accuracy: 0.8331\n",
            "Epoch 9/20\n",
            "43/43 [==============================] - 67s 2s/step - loss: 0.1457 - accuracy: 0.9936 - val_loss: 0.6388 - val_accuracy: 0.8269\n",
            "Epoch 10/20\n",
            "43/43 [==============================] - 67s 2s/step - loss: 0.1246 - accuracy: 0.9954 - val_loss: 0.6259 - val_accuracy: 0.8371\n",
            "Epoch 11/20\n",
            "43/43 [==============================] - 67s 2s/step - loss: 0.1105 - accuracy: 0.9951 - val_loss: 0.6487 - val_accuracy: 0.8269\n",
            "Epoch 12/20\n",
            "43/43 [==============================] - 67s 2s/step - loss: 0.0961 - accuracy: 0.9958 - val_loss: 0.6004 - val_accuracy: 0.8425\n",
            "Epoch 13/20\n",
            "43/43 [==============================] - 67s 2s/step - loss: 0.0814 - accuracy: 0.9973 - val_loss: 0.6581 - val_accuracy: 0.8159\n",
            "Epoch 14/20\n",
            "43/43 [==============================] - 67s 2s/step - loss: 0.0706 - accuracy: 0.9979 - val_loss: 0.5660 - val_accuracy: 0.8393\n",
            "Epoch 15/20\n",
            "43/43 [==============================] - 67s 2s/step - loss: 0.0695 - accuracy: 0.9959 - val_loss: 0.5515 - val_accuracy: 0.8433\n",
            "Epoch 16/20\n",
            "43/43 [==============================] - 67s 2s/step - loss: 0.0528 - accuracy: 0.9986 - val_loss: 0.5387 - val_accuracy: 0.8456\n",
            "Epoch 17/20\n",
            "43/43 [==============================] - 67s 2s/step - loss: 0.0512 - accuracy: 0.9971 - val_loss: 0.5117 - val_accuracy: 0.8541\n",
            "Epoch 18/20\n",
            "43/43 [==============================] - 67s 2s/step - loss: 0.0424 - accuracy: 0.9984 - val_loss: 0.6732 - val_accuracy: 0.8124\n",
            "Epoch 19/20\n",
            "43/43 [==============================] - 67s 2s/step - loss: 0.0390 - accuracy: 0.9981 - val_loss: 0.5568 - val_accuracy: 0.8424\n",
            "Epoch 20/20\n",
            "43/43 [==============================] - 67s 2s/step - loss: 0.0335 - accuracy: 0.9986 - val_loss: 0.5423 - val_accuracy: 0.8456\n"
          ]
        }
      ],
      "source": [
        "model.compile(optimizer=\"RMSprop\",loss=\"categorical_crossentropy\",metrics=[\"accuracy\"])\n",
        "\n",
        "hist = model.fit(x_train,y_train,validation_split=0.15,epochs=20,batch_size=1000)"
      ]
    },
    {
      "cell_type": "code",
      "execution_count": 8,
      "metadata": {
        "colab": {
          "base_uri": "https://localhost:8080/",
          "height": 295
        },
        "id": "58wKo4ATY94w",
        "outputId": "d96eb779-1d9e-4c6d-e7dd-235e614e0855",
        "trusted": true
      },
      "outputs": [
        {
          "data": {
            "image/png": "[encoded data removed]",
            "text/plain": [
              "<Figure size 432x288 with 1 Axes>"
            ]
          },
          "metadata": {
            "needs_background": "light"
          },
          "output_type": "display_data"
        }
      ],
      "source": [
        "plt.subplots(figsize=(6,4))\n",
        "plt.plot(hist.epoch,hist.history[\"loss\"],color=\"green\",label=\"Train Loss\")\n",
        "plt.plot(hist.epoch,hist.history[\"val_loss\"],color=\"blue\",label=\"Validation Loss\")\n",
        "plt.xlabel(\"Epoch Number\")\n",
        "plt.ylabel(\"Loss\")\n",
        "plt.legend()\n",
        "plt.title(\"Loss Graph\")\n",
        "plt.show()"
      ]
    },
    {
      "cell_type": "code",
      "execution_count": 9,
      "metadata": {
        "colab": {
          "base_uri": "https://localhost:8080/",
          "height": 295
        },
        "id": "VPbvUDOeY94w",
        "outputId": "991be2ad-a7bc-4985-e015-b4f892e9f55a",
        "trusted": true
      },
      "outputs": [
        {
          "data": {
            "image/png": "[encoded data removed]",
            "text/plain": [
              "<Figure size 432x288 with 1 Axes>"
            ]
          },
          "metadata": {
            "needs_background": "light"
          },
          "output_type": "display_data"
        }
      ],
      "source": [
        "plt.subplots(figsize=(6,4))\n",
        "plt.plot(hist.epoch,hist.history[\"accuracy\"],color=\"green\",label=\"Train Accuracy\")\n",
        "plt.plot(hist.epoch,hist.history[\"val_accuracy\"],color=\"blue\",label=\"Validation Accuracy\")\n",
        "plt.xlabel(\"Epoch Number\")\n",
        "plt.ylabel(\"Accuracy\")\n",
        "plt.legend()\n",
        "plt.title(\"Accuracy Graph\")\n",
        "plt.show()"
      ]
    }
  ],
  "metadata": {
    "accelerator": "GPU",
    "colab": {
      "machine_shape": "hm",
      "provenance": []
    },
    "gpuClass": "standard",
    "kernelspec": {
      "display_name": "Python 3.9.12 ('base')",
      "language": "python",
      "name": "python3"
    },
    "language_info": {
      "codemirror_mode": {
        "name": "ipython",
        "version": 3
      },
      "file_extension": ".py",
      "mimetype": "text/x-python",
      "name": "python",
      "nbconvert_exporter": "python",
      "pygments_lexer": "ipython3",
      "version": "3.9.12"
    },
    "vscode": {
      "interpreter": {
        "hash": "f08154012ddadd8e950e6e9e035c7a7b32c136e7647e9b7c77e02eb723a8bedb"
      }
    }
  },
  "nbformat": 4,
  "nbformat_minor": 0
}
