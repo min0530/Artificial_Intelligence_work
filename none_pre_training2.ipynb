{
  "metadata": {
    "kernelspec": {
      "language": "python",
      "display_name": "Python 3",
      "name": "python3"
    },
    "language_info": {
      "pygments_lexer": "ipython3",
      "nbconvert_exporter": "python",
      "version": "3.6.4",
      "file_extension": ".py",
      "codemirror_mode": {
        "name": "ipython",
        "version": 3
      },
      "name": "python",
      "mimetype": "text/x-python"
    },
    "colab": {
      "provenance": [],
      "machine_shape": "hm"
    },
    "accelerator": "GPU",
    "gpuClass": "premium"
  },
  "nbformat_minor": 0,
  "nbformat": 4,
  "cells": [
    {
      "cell_type": "code",
      "source": [
        "import numpy as np\n",
        "import cv2\n",
        "import matplotlib.pyplot as plt\n",
        "from keras.layers import Dense,Flatten,Input\n",
        "from keras.models import Sequential\n",
        "from keras.utils import to_categorical\n",
        "from tensorflow.keras.layers import Dense, Dropout, Activation, Flatten\n",
        "from tensorflow.keras.layers import BatchNormalization\n",
        "from keras.utils.data_utils import get_file\n",
        "from keras.initializers import he_normal\n",
        "from tensorflow.keras.datasets import cifar10\n",
        "from tensorflow.keras.applications import VGG19 "
      ],
      "metadata": {
        "_uuid": "8f2839f25d086af736a60e9eeb907d3b93b6e0e5",
        "_cell_guid": "b1076dfc-b9ad-4769-8c92-a6c4dae69d19",
        "trusted": true,
        "id": "uRmv5jVBY94q"
      },
      "execution_count": 1,
      "outputs": []
    },
    {
      "cell_type": "code",
      "source": [
        "(x_train,y_train),(x_test,y_test) = cifar10.load_data()"
      ],
      "metadata": {
        "_uuid": "d629ff2d2480ee46fbb7e2d37f6b5fab8052498a",
        "_cell_guid": "79c7e3d0-c299-4dcb-8224-4455121ee9b0",
        "trusted": true,
        "id": "pFcLZnS4Y94r",
        "colab": {
          "base_uri": "https://localhost:8080/"
        },
        "outputId": "4bdfc514-a625-466c-8673-6419dff00b09"
      },
      "execution_count": 2,
      "outputs": [
        {
          "output_type": "stream",
          "name": "stdout",
          "text": [
            "Downloading data from https://www.cs.toronto.edu/~kriz/cifar-10-python.tar.gz\n",
            "170498071/170498071 [==============================] - 3s 0us/step\n"
          ]
        }
      ]
    },
    {
      "cell_type": "code",
      "source": [
        "x_train = x_train.astype('float32')\n",
        "x_test = x_test.astype('float32')\n",
        "\n",
        "#onehot \n",
        "y_train = to_categorical(y_train,num_classes=10)\n",
        "y_test = to_categorical(y_test,num_classes=10)\n",
        "\n",
        "# data preprocessing 使用rbg均質\n",
        "x_train[:, :, :, 0] = (x_train[:, :, :, 0]-123.680)\n",
        "x_train[:, :, :, 1] = (x_train[:, :, :, 1]-116.779)\n",
        "x_train[:, :, :, 2] = (x_train[:, :, :, 2]-103.939)\n",
        "x_test[:, :, :, 0] = (x_test[:, :, :, 0]-123.680)\n",
        "x_test[:, :, :, 1] = (x_test[:, :, :, 1]-116.779)\n",
        "x_test[:, :, :, 2] = (x_test[:, :, :, 2]-103.939)\n"
      ],
      "metadata": {
        "trusted": true,
        "id": "UEvEj8z7Y94s"
      },
      "execution_count": 3,
      "outputs": []
    },
    {
      "cell_type": "code",
      "source": [
        "#放大圖片\n",
        "def resize_img(img):\n",
        "    numberOfImage = img.shape[0]\n",
        "    new_array = np.zeros((numberOfImage, 150,150,3))\n",
        "    for i in range(numberOfImage):\n",
        "        new_array[i] = cv2.resize(img[i,:,:,:],(150,150))\n",
        "    return new_array\n",
        "\n",
        "x_train = resize_img(x_train)\n",
        "x_test = resize_img(x_test)\n"
      ],
      "metadata": {
        "trusted": true,
        "id": "HQr2d_cpY94t"
      },
      "execution_count": 4,
      "outputs": []
    },
    {
      "cell_type": "code",
      "source": [
        "vgg = VGG19(include_top=False,input_shape=(150,150,3),weights=None)\n",
        "\n",
        "vgg.summary()"
      ],
      "metadata": {
        "trusted": true,
        "id": "T2IXmDNlY94u",
        "colab": {
          "base_uri": "https://localhost:8080/"
        },
        "outputId": "0febf4fb-42db-46b7-9fce-aefef30c997c"
      },
      "execution_count": 5,
      "outputs": [
        {
          "output_type": "stream",
          "name": "stdout",
          "text": [
            "Model: \"vgg19\"\n",
            "_________________________________________________________________\n",
            " Layer (type)                Output Shape              Param #   \n",
            "=================================================================\n",
            " input_1 (InputLayer)        [(None, 150, 150, 3)]     0         \n",
            "                                                                 \n",
            " block1_conv1 (Conv2D)       (None, 150, 150, 64)      1792      \n",
            "                                                                 \n",
            " block1_conv2 (Conv2D)       (None, 150, 150, 64)      36928     \n",
            "                                                                 \n",
            " block1_pool (MaxPooling2D)  (None, 75, 75, 64)        0         \n",
            "                                                                 \n",
            " block2_conv1 (Conv2D)       (None, 75, 75, 128)       73856     \n",
            "                                                                 \n",
            " block2_conv2 (Conv2D)       (None, 75, 75, 128)       147584    \n",
            "                                                                 \n",
            " block2_pool (MaxPooling2D)  (None, 37, 37, 128)       0         \n",
            "                                                                 \n",
            " block3_conv1 (Conv2D)       (None, 37, 37, 256)       295168    \n",
            "                                                                 \n",
            " block3_conv2 (Conv2D)       (None, 37, 37, 256)       590080    \n",
            "                                                                 \n",
            " block3_conv3 (Conv2D)       (None, 37, 37, 256)       590080    \n",
            "                                                                 \n",
            " block3_conv4 (Conv2D)       (None, 37, 37, 256)       590080    \n",
            "                                                                 \n",
            " block3_pool (MaxPooling2D)  (None, 18, 18, 256)       0         \n",
            "                                                                 \n",
            " block4_conv1 (Conv2D)       (None, 18, 18, 512)       1180160   \n",
            "                                                                 \n",
            " block4_conv2 (Conv2D)       (None, 18, 18, 512)       2359808   \n",
            "                                                                 \n",
            " block4_conv3 (Conv2D)       (None, 18, 18, 512)       2359808   \n",
            "                                                                 \n",
            " block4_conv4 (Conv2D)       (None, 18, 18, 512)       2359808   \n",
            "                                                                 \n",
            " block4_pool (MaxPooling2D)  (None, 9, 9, 512)         0         \n",
            "                                                                 \n",
            " block5_conv1 (Conv2D)       (None, 9, 9, 512)         2359808   \n",
            "                                                                 \n",
            " block5_conv2 (Conv2D)       (None, 9, 9, 512)         2359808   \n",
            "                                                                 \n",
            " block5_conv3 (Conv2D)       (None, 9, 9, 512)         2359808   \n",
            "                                                                 \n",
            " block5_conv4 (Conv2D)       (None, 9, 9, 512)         2359808   \n",
            "                                                                 \n",
            " block5_pool (MaxPooling2D)  (None, 4, 4, 512)         0         \n",
            "                                                                 \n",
            "=================================================================\n",
            "Total params: 20,024,384\n",
            "Trainable params: 20,024,384\n",
            "Non-trainable params: 0\n",
            "_________________________________________________________________\n"
          ]
        }
      ]
    },
    {
      "cell_type": "code",
      "source": [
        "model = Sequential()\n",
        "\n",
        "for layer in vgg.layers:\n",
        "    model.add(layer)\n",
        "    \n",
        "# for layer in model.layers:\n",
        "#     layer.trainable = False\n",
        "    \n",
        "# model modification for cifar-10\n",
        "model.add(Flatten(name='flatten'))\n",
        "model.add(Dense(4096,name='fc_cifa10'))\n",
        "model.add(BatchNormalization())\n",
        "model.add(Activation('relu'))\n",
        "model.add(Dense(4096,kernel_initializer=he_normal(),name='fc2'))\n",
        "model.add(BatchNormalization())\n",
        "model.add(Activation('relu'))\n",
        "model.add(Dense(10, name='predictions_cifa10'))\n",
        "model.add(BatchNormalization())\n",
        "model.add(Activation('softmax'))\n",
        "\n",
        "model.summary()"
      ],
      "metadata": {
        "trusted": true,
        "id": "fWexEjXcY94v",
        "colab": {
          "base_uri": "https://localhost:8080/"
        },
        "outputId": "a13ea714-8b3e-485e-e7f8-59b05953ddbe"
      },
      "execution_count": 6,
      "outputs": [
        {
          "output_type": "stream",
          "name": "stdout",
          "text": [
            "Model: \"sequential\"\n",
            "_________________________________________________________________\n",
            " Layer (type)                Output Shape              Param #   \n",
            "=================================================================\n",
            " block1_conv1 (Conv2D)       (None, 150, 150, 64)      1792      \n",
            "                                                                 \n",
            " block1_conv2 (Conv2D)       (None, 150, 150, 64)      36928     \n",
            "                                                                 \n",
            " block1_pool (MaxPooling2D)  (None, 75, 75, 64)        0         \n",
            "                                                                 \n",
            " block2_conv1 (Conv2D)       (None, 75, 75, 128)       73856     \n",
            "                                                                 \n",
            " block2_conv2 (Conv2D)       (None, 75, 75, 128)       147584    \n",
            "                                                                 \n",
            " block2_pool (MaxPooling2D)  (None, 37, 37, 128)       0         \n",
            "                                                                 \n",
            " block3_conv1 (Conv2D)       (None, 37, 37, 256)       295168    \n",
            "                                                                 \n",
            " block3_conv2 (Conv2D)       (None, 37, 37, 256)       590080    \n",
            "                                                                 \n",
            " block3_conv3 (Conv2D)       (None, 37, 37, 256)       590080    \n",
            "                                                                 \n",
            " block3_conv4 (Conv2D)       (None, 37, 37, 256)       590080    \n",
            "                                                                 \n",
            " block3_pool (MaxPooling2D)  (None, 18, 18, 256)       0         \n",
            "                                                                 \n",
            " block4_conv1 (Conv2D)       (None, 18, 18, 512)       1180160   \n",
            "                                                                 \n",
            " block4_conv2 (Conv2D)       (None, 18, 18, 512)       2359808   \n",
            "                                                                 \n",
            " block4_conv3 (Conv2D)       (None, 18, 18, 512)       2359808   \n",
            "                                                                 \n",
            " block4_conv4 (Conv2D)       (None, 18, 18, 512)       2359808   \n",
            "                                                                 \n",
            " block4_pool (MaxPooling2D)  (None, 9, 9, 512)         0         \n",
            "                                                                 \n",
            " block5_conv1 (Conv2D)       (None, 9, 9, 512)         2359808   \n",
            "                                                                 \n",
            " block5_conv2 (Conv2D)       (None, 9, 9, 512)         2359808   \n",
            "                                                                 \n",
            " block5_conv3 (Conv2D)       (None, 9, 9, 512)         2359808   \n",
            "                                                                 \n",
            " block5_conv4 (Conv2D)       (None, 9, 9, 512)         2359808   \n",
            "                                                                 \n",
            " block5_pool (MaxPooling2D)  (None, 4, 4, 512)         0         \n",
            "                                                                 \n",
            " flatten (Flatten)           (None, 8192)              0         \n",
            "                                                                 \n",
            " fc_cifa10 (Dense)           (None, 4096)              33558528  \n",
            "                                                                 \n",
            " batch_normalization (BatchN  (None, 4096)             16384     \n",
            " ormalization)                                                   \n",
            "                                                                 \n",
            " activation (Activation)     (None, 4096)              0         \n",
            "                                                                 \n",
            " fc2 (Dense)                 (None, 4096)              16781312  \n",
            "                                                                 \n",
            " batch_normalization_1 (Batc  (None, 4096)             16384     \n",
            " hNormalization)                                                 \n",
            "                                                                 \n",
            " activation_1 (Activation)   (None, 4096)              0         \n",
            "                                                                 \n",
            " predictions_cifa10 (Dense)  (None, 10)                40970     \n",
            "                                                                 \n",
            " batch_normalization_2 (Batc  (None, 10)               40        \n",
            " hNormalization)                                                 \n",
            "                                                                 \n",
            " activation_2 (Activation)   (None, 10)                0         \n",
            "                                                                 \n",
            "=================================================================\n",
            "Total params: 70,438,002\n",
            "Trainable params: 70,421,598\n",
            "Non-trainable params: 16,404\n",
            "_________________________________________________________________\n"
          ]
        }
      ]
    },
    {
      "cell_type": "code",
      "source": [
        "model.compile(optimizer=\"RMSprop\",loss=\"categorical_crossentropy\",metrics=[\"accuracy\"])\n",
        "hist = model.fit(x_train,y_train,validation_data=(x_train,y_train),validation_split=0.15,epochs=10,batch_size=100,verbose=2)"
      ],
      "metadata": {
        "trusted": true,
        "colab": {
          "base_uri": "https://localhost:8080/"
        },
        "id": "cZyqzsYlY94w",
        "outputId": "8e27abb6-b75d-4aa8-eb72-5334f9201f8e"
      },
      "execution_count": 7,
      "outputs": [
        {
          "output_type": "stream",
          "name": "stdout",
          "text": [
            "Epoch 1/10\n",
            "500/500 - 113s - loss: 1.8109 - accuracy: 0.3472 - val_loss: 1.5957 - val_accuracy: 0.4368 - 113s/epoch - 226ms/step\n",
            "Epoch 2/10\n",
            "500/500 - 75s - loss: 1.5042 - accuracy: 0.4655 - val_loss: 1.4353 - val_accuracy: 0.4847 - 75s/epoch - 149ms/step\n",
            "Epoch 3/10\n",
            "500/500 - 75s - loss: 1.3120 - accuracy: 0.5423 - val_loss: 1.2583 - val_accuracy: 0.5580 - 75s/epoch - 150ms/step\n",
            "Epoch 4/10\n",
            "500/500 - 75s - loss: 1.1688 - accuracy: 0.5916 - val_loss: 1.0340 - val_accuracy: 0.6416 - 75s/epoch - 149ms/step\n",
            "Epoch 5/10\n",
            "500/500 - 75s - loss: 1.0275 - accuracy: 0.6468 - val_loss: 0.8932 - val_accuracy: 0.6928 - 75s/epoch - 149ms/step\n",
            "Epoch 6/10\n",
            "500/500 - 75s - loss: 0.8808 - accuracy: 0.6987 - val_loss: 0.8229 - val_accuracy: 0.7157 - 75s/epoch - 149ms/step\n",
            "Epoch 7/10\n",
            "500/500 - 75s - loss: 0.7275 - accuracy: 0.7556 - val_loss: 0.6207 - val_accuracy: 0.7914 - 75s/epoch - 150ms/step\n",
            "Epoch 8/10\n",
            "500/500 - 75s - loss: 0.5680 - accuracy: 0.8146 - val_loss: 0.3963 - val_accuracy: 0.8821 - 75s/epoch - 150ms/step\n",
            "Epoch 9/10\n",
            "500/500 - 75s - loss: 0.4177 - accuracy: 0.8670 - val_loss: 0.2550 - val_accuracy: 0.9271 - 75s/epoch - 149ms/step\n",
            "Epoch 10/10\n",
            "500/500 - 75s - loss: 0.2862 - accuracy: 0.9141 - val_loss: 0.1627 - val_accuracy: 0.9596 - 75s/epoch - 149ms/step\n"
          ]
        }
      ]
    },
    {
      "cell_type": "code",
      "source": [
        "plt.subplots(figsize=(6,4))\n",
        "plt.plot(hist.epoch,hist.history[\"loss\"],color=\"green\",label=\"Train Loss\")\n",
        "plt.plot(hist.epoch,hist.history[\"val_loss\"],color=\"blue\",label=\"Validation Loss\")\n",
        "plt.xlabel(\"Epoch Number\")\n",
        "plt.ylabel(\"Loss\")\n",
        "plt.legend()\n",
        "plt.title(\"Loss Graph\")\n",
        "plt.show()"
      ],
      "metadata": {
        "trusted": true,
        "id": "58wKo4ATY94w",
        "colab": {
          "base_uri": "https://localhost:8080/",
          "height": 295
        },
        "outputId": "2a03e174-ba89-4ba0-cc9e-6df6f1878c41"
      },
      "execution_count": 8,
      "outputs": [
        {
          "output_type": "display_data",
          "data": {
            "text/plain": [
              "<Figure size 432x288 with 1 Axes>"
            ],
            "image/png": "[encoded data removed]"
          },
          "metadata": {
            "needs_background": "light"
          }
        }
      ]
    },
    {
      "cell_type": "code",
      "source": [
        "plt.subplots(figsize=(6,4))\n",
        "plt.plot(hist.epoch,hist.history[\"accuracy\"],color=\"green\",label=\"Train Accuracy\")\n",
        "plt.plot(hist.epoch,hist.history[\"val_accuracy\"],color=\"blue\",label=\"Validation Accuracy\")\n",
        "plt.xlabel(\"Epoch Number\")\n",
        "plt.ylabel(\"Accuracy\")\n",
        "plt.legend()\n",
        "plt.title(\"Accuracy Graph\")\n",
        "plt.show()"
      ],
      "metadata": {
        "trusted": true,
        "id": "VPbvUDOeY94w",
        "colab": {
          "base_uri": "https://localhost:8080/",
          "height": 295
        },
        "outputId": "2838f3ab-ec58-4630-962b-d2a59b5ffd16"
      },
      "execution_count": 9,
      "outputs": [
        {
          "output_type": "display_data",
          "data": {
            "text/plain": [
              "<Figure size 432x288 with 1 Axes>"
            ],
            "image/png": "[encoded data removed]"
          },
          "metadata": {
            "needs_background": "light"
          }
        }
      ]
    }
  ]
}